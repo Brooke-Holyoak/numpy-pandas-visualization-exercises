{
 "cells": [
  {
   "cell_type": "code",
   "execution_count": 1,
   "id": "2673eea4",
   "metadata": {},
   "outputs": [],
   "source": [
    "# first, import the needed libraries: numpy, pandas and matplotlib\n",
    "\n",
    "import numpy as np\n",
    "import pandas as pd\n",
    "\n",
    "import matplotlib.pyplot as plt"
   ]
  },
  {
   "cell_type": "code",
   "execution_count": 27,
   "id": "3b3846b1",
   "metadata": {},
   "outputs": [],
   "source": [
    "# now let's grab the list:     [\"kiwi\", \"mango\", \"strawberry\", \"pineapple\", \"gala apple\", \"honeycrisp apple\", \"tomato\", \"watermelon\", \"honeydew\", \"kiwi\", \"kiwi\", \"kiwi\", \"mango\", \"blueberry\", \"blackberry\", \"gooseberry\", \"papaya\"]\n",
    "# create a series, call it fruits_series\n",
    "\n",
    "fruits = pd.Series(    [\"kiwi\", \"mango\", \"strawberry\", \"pineapple\", \"gala apple\", \"honeycrisp apple\", \"tomato\", \"watermelon\", \"honeydew\", \"kiwi\", \"kiwi\", \"kiwi\", \"mango\", \"blueberry\", \"blackberry\", \"gooseberry\", \"papaya\"])\n"
   ]
  },
  {
   "cell_type": "code",
   "execution_count": 28,
   "id": "53de99e2",
   "metadata": {},
   "outputs": [
    {
     "data": {
      "text/plain": [
       "0                 kiwi\n",
       "1                mango\n",
       "2           strawberry\n",
       "3            pineapple\n",
       "4           gala apple\n",
       "5     honeycrisp apple\n",
       "6               tomato\n",
       "7           watermelon\n",
       "8             honeydew\n",
       "9                 kiwi\n",
       "10                kiwi\n",
       "11                kiwi\n",
       "12               mango\n",
       "13           blueberry\n",
       "14          blackberry\n",
       "15          gooseberry\n",
       "16              papaya\n",
       "dtype: object"
      ]
     },
     "execution_count": 28,
     "metadata": {},
     "output_type": "execute_result"
    }
   ],
   "source": [
    "#check the series\n",
    "\n",
    "fruits"
   ]
  },
  {
   "cell_type": "code",
   "execution_count": 29,
   "id": "4266a52b",
   "metadata": {},
   "outputs": [
    {
     "data": {
      "text/plain": [
       "pandas.core.series.Series"
      ]
     },
     "execution_count": 29,
     "metadata": {},
     "output_type": "execute_result"
    }
   ],
   "source": [
    "#check to verify it's a series\n",
    "type(fruits)"
   ]
  },
  {
   "cell_type": "code",
   "execution_count": 30,
   "id": "15c1709e",
   "metadata": {},
   "outputs": [
    {
     "data": {
      "text/plain": [
       "count       17\n",
       "unique      13\n",
       "top       kiwi\n",
       "freq         4\n",
       "dtype: object"
      ]
     },
     "execution_count": 30,
     "metadata": {},
     "output_type": "execute_result"
    }
   ],
   "source": [
    "#let's describe the series\n",
    "\n",
    "fruits.describe()"
   ]
  },
  {
   "cell_type": "code",
   "execution_count": 31,
   "id": "af076383",
   "metadata": {},
   "outputs": [
    {
     "data": {
      "text/plain": [
       "17"
      ]
     },
     "execution_count": 31,
     "metadata": {},
     "output_type": "execute_result"
    }
   ],
   "source": [
    "#now, let's do the exercises:\n",
    "#1. Determine the number of elements in fruits\n",
    "\n",
    "#I'll use the size attribute\n",
    "\n",
    "fruits.size"
   ]
  },
  {
   "cell_type": "code",
   "execution_count": 51,
   "id": "874f9922",
   "metadata": {},
   "outputs": [
    {
     "data": {
      "text/plain": [
       "[0, 1, 2, 3, 4, 5, 6, 7, 8, 9, 10, 11, 12, 13, 14, 15, 16]"
      ]
     },
     "execution_count": 51,
     "metadata": {},
     "output_type": "execute_result"
    }
   ],
   "source": [
    "#2. Output only the index from fruits\n",
    "#I'll use the index attribute with the tolist() function\n",
    "\n",
    "fruits.index.tolist()"
   ]
  },
  {
   "cell_type": "code",
   "execution_count": 62,
   "id": "a24eef16",
   "metadata": {},
   "outputs": [
    {
     "data": {
      "text/plain": [
       "['kiwi',\n",
       " 'mango',\n",
       " 'strawberry',\n",
       " 'pineapple',\n",
       " 'gala apple',\n",
       " 'honeycrisp apple',\n",
       " 'tomato',\n",
       " 'watermelon',\n",
       " 'honeydew',\n",
       " 'kiwi',\n",
       " 'kiwi',\n",
       " 'kiwi',\n",
       " 'mango',\n",
       " 'blueberry',\n",
       " 'blackberry',\n",
       " 'gooseberry',\n",
       " 'papaya']"
      ]
     },
     "execution_count": 62,
     "metadata": {},
     "output_type": "execute_result"
    }
   ],
   "source": [
    "#Output only the values from fruits.\n",
    "\n",
    "fruits.values.tolist()"
   ]
  },
  {
   "cell_type": "code",
   "execution_count": 34,
   "id": "b20cc6cc",
   "metadata": {},
   "outputs": [
    {
     "data": {
      "text/plain": [
       "dtype('O')"
      ]
     },
     "execution_count": 34,
     "metadata": {},
     "output_type": "execute_result"
    }
   ],
   "source": [
    "#Confirm the data type of the values in fruits.\n",
    "\n",
    "fruits.dtype"
   ]
  },
  {
   "cell_type": "code",
   "execution_count": 35,
   "id": "3cd68a09",
   "metadata": {},
   "outputs": [
    {
     "data": {
      "text/plain": [
       "0          kiwi\n",
       "1         mango\n",
       "2    strawberry\n",
       "3     pineapple\n",
       "4    gala apple\n",
       "dtype: object"
      ]
     },
     "execution_count": 35,
     "metadata": {},
     "output_type": "execute_result"
    }
   ],
   "source": [
    "#Output only the first five values from fruits. Output the last three values. Output two random values from fruits.\n",
    "\n",
    "fruits.head(5) #first five values"
   ]
  },
  {
   "cell_type": "code",
   "execution_count": 41,
   "id": "3ba934ec",
   "metadata": {},
   "outputs": [
    {
     "data": {
      "text/plain": [
       "14    blackberry\n",
       "15    gooseberry\n",
       "16        papaya\n",
       "dtype: object"
      ]
     },
     "execution_count": 41,
     "metadata": {},
     "output_type": "execute_result"
    }
   ],
   "source": [
    "fruits.tail(3) #last three values"
   ]
  },
  {
   "cell_type": "code",
   "execution_count": 40,
   "id": "c389c93c",
   "metadata": {},
   "outputs": [
    {
     "data": {
      "text/plain": [
       "12       mango\n",
       "8     honeydew\n",
       "dtype: object"
      ]
     },
     "execution_count": 40,
     "metadata": {},
     "output_type": "execute_result"
    }
   ],
   "source": [
    "fruits.sample(2) #sampling 2 random values"
   ]
  },
  {
   "cell_type": "code",
   "execution_count": 42,
   "id": "7a712f4d",
   "metadata": {},
   "outputs": [
    {
     "data": {
      "text/plain": [
       "count       17\n",
       "unique      13\n",
       "top       kiwi\n",
       "freq         4\n",
       "dtype: object"
      ]
     },
     "execution_count": 42,
     "metadata": {},
     "output_type": "execute_result"
    }
   ],
   "source": [
    "#Run the .describe() on fruits to see what information it returns when called on a Series with string values.\n",
    "\n",
    "fruits.describe()"
   ]
  },
  {
   "cell_type": "code",
   "execution_count": 60,
   "id": "08c51cbd",
   "metadata": {},
   "outputs": [
    {
     "data": {
      "text/plain": [
       "['kiwi',\n",
       " 'mango',\n",
       " 'strawberry',\n",
       " 'pineapple',\n",
       " 'gala apple',\n",
       " 'honeycrisp apple',\n",
       " 'tomato',\n",
       " 'watermelon',\n",
       " 'honeydew',\n",
       " 'blueberry',\n",
       " 'blackberry',\n",
       " 'gooseberry',\n",
       " 'papaya']"
      ]
     },
     "execution_count": 60,
     "metadata": {},
     "output_type": "execute_result"
    }
   ],
   "source": [
    "#Run the code necessary to produce only the unique string values from fruits.\n",
    "\n",
    "unique_fruits = fruits.drop_duplicates()\n",
    "unique_fruits.values.tolist()"
   ]
  },
  {
   "cell_type": "code",
   "execution_count": 63,
   "id": "e1188807",
   "metadata": {},
   "outputs": [
    {
     "data": {
      "text/plain": [
       "array(['kiwi', 'mango', 'strawberry', 'pineapple', 'gala apple',\n",
       "       'honeycrisp apple', 'tomato', 'watermelon', 'honeydew',\n",
       "       'blueberry', 'blackberry', 'gooseberry', 'papaya'], dtype=object)"
      ]
     },
     "execution_count": 63,
     "metadata": {},
     "output_type": "execute_result"
    }
   ],
   "source": [
    "#or you can use the unique() method\n",
    "fruits.unique()"
   ]
  },
  {
   "cell_type": "code",
   "execution_count": 45,
   "id": "a8722e61",
   "metadata": {},
   "outputs": [
    {
     "data": {
      "text/plain": [
       "kiwi                4\n",
       "mango               2\n",
       "pineapple           1\n",
       "papaya              1\n",
       "honeydew            1\n",
       "watermelon          1\n",
       "strawberry          1\n",
       "honeycrisp apple    1\n",
       "blackberry          1\n",
       "blueberry           1\n",
       "tomato              1\n",
       "gooseberry          1\n",
       "gala apple          1\n",
       "dtype: int64"
      ]
     },
     "execution_count": 45,
     "metadata": {},
     "output_type": "execute_result"
    }
   ],
   "source": [
    "#Determine how many times each unique string value occurs in fruits.\n",
    "\n",
    "fruits.value_counts()"
   ]
  },
  {
   "cell_type": "code",
   "execution_count": 48,
   "id": "716007c0",
   "metadata": {},
   "outputs": [
    {
     "data": {
      "text/plain": [
       "0    kiwi\n",
       "dtype: object"
      ]
     },
     "execution_count": 48,
     "metadata": {},
     "output_type": "execute_result"
    }
   ],
   "source": [
    "#Determine the string value that occurs most frequently in fruits.\n",
    "\n",
    "fruits.mode()"
   ]
  },
  {
   "cell_type": "code",
   "execution_count": 66,
   "id": "87012cf9",
   "metadata": {},
   "outputs": [
    {
     "data": {
      "text/plain": [
       "'blackberry'"
      ]
     },
     "execution_count": 66,
     "metadata": {},
     "output_type": "execute_result"
    }
   ],
   "source": [
    "#Determine the string value that occurs least frequently in fruits.\n",
    "\n",
    "fruits.min()"
   ]
  },
  {
   "cell_type": "code",
   "execution_count": 67,
   "id": "3371f81e",
   "metadata": {},
   "outputs": [
    {
     "data": {
      "text/plain": [
       "pineapple           1\n",
       "papaya              1\n",
       "honeydew            1\n",
       "watermelon          1\n",
       "strawberry          1\n",
       "honeycrisp apple    1\n",
       "blackberry          1\n",
       "blueberry           1\n",
       "tomato              1\n",
       "gooseberry          1\n",
       "gala apple          1\n",
       "dtype: int64"
      ]
     },
     "execution_count": 67,
     "metadata": {},
     "output_type": "execute_result"
    }
   ],
   "source": [
    "fruits.value_counts().nsmallest(n=1, keep='all')"
   ]
  },
  {
   "cell_type": "markdown",
   "id": "68b62c81",
   "metadata": {},
   "source": [
    "##Exercises Part 2"
   ]
  },
  {
   "cell_type": "code",
   "execution_count": 69,
   "id": "aabc1c9f",
   "metadata": {},
   "outputs": [
    {
     "data": {
      "text/plain": [
       "0                 Kiwi\n",
       "1                Mango\n",
       "2           Strawberry\n",
       "3            Pineapple\n",
       "4           Gala apple\n",
       "5     Honeycrisp apple\n",
       "6               Tomato\n",
       "7           Watermelon\n",
       "8             Honeydew\n",
       "9                 Kiwi\n",
       "10                Kiwi\n",
       "11                Kiwi\n",
       "12               Mango\n",
       "13           Blueberry\n",
       "14          Blackberry\n",
       "15          Gooseberry\n",
       "16              Papaya\n",
       "dtype: object"
      ]
     },
     "execution_count": 69,
     "metadata": {},
     "output_type": "execute_result"
    }
   ],
   "source": [
    "#1. Capitalize all the string values in fruits. \n",
    "\n",
    "\n",
    "fruits.str.capitalize()"
   ]
  },
  {
   "cell_type": "code",
   "execution_count": 72,
   "id": "7557e6ea",
   "metadata": {},
   "outputs": [
    {
     "data": {
      "text/plain": [
       "0     0\n",
       "1     1\n",
       "2     1\n",
       "3     1\n",
       "4     3\n",
       "5     1\n",
       "6     1\n",
       "7     1\n",
       "8     0\n",
       "9     0\n",
       "10    0\n",
       "11    0\n",
       "12    1\n",
       "13    0\n",
       "14    1\n",
       "15    0\n",
       "16    3\n",
       "dtype: int64"
      ]
     },
     "execution_count": 72,
     "metadata": {},
     "output_type": "execute_result"
    }
   ],
   "source": [
    "#2. Count the letter \"a\" in all the string values (use string vectorization).\n",
    "\n",
    "fruits.str.count('a')"
   ]
  },
  {
   "cell_type": "code",
   "execution_count": 99,
   "id": "a878bb80",
   "metadata": {},
   "outputs": [
    {
     "data": {
      "text/plain": [
       "0     2\n",
       "1     2\n",
       "2     2\n",
       "3     4\n",
       "4     4\n",
       "5     5\n",
       "6     3\n",
       "7     4\n",
       "8     3\n",
       "9     2\n",
       "10    2\n",
       "11    2\n",
       "12    2\n",
       "13    3\n",
       "14    2\n",
       "15    4\n",
       "16    3\n",
       "dtype: int64"
      ]
     },
     "execution_count": 99,
     "metadata": {},
     "output_type": "execute_result"
    }
   ],
   "source": [
    "#3. Output the number of vowels in each and every string value.\n",
    "\n",
    "\n",
    "\n",
    "fruits.str.count('[aeiou]')\n"
   ]
  },
  {
   "cell_type": "code",
   "execution_count": 100,
   "id": "fd60f491",
   "metadata": {},
   "outputs": [
    {
     "data": {
      "text/plain": [
       "'honeycrisp apple'"
      ]
     },
     "execution_count": 100,
     "metadata": {},
     "output_type": "execute_result"
    }
   ],
   "source": [
    "#4. Write the code to get the longest string value from fruits.\n",
    "\n",
    "max(fruits, key = len)\n"
   ]
  },
  {
   "cell_type": "code",
   "execution_count": 101,
   "id": "6d2fdd62",
   "metadata": {},
   "outputs": [
    {
     "data": {
      "text/plain": [
       "1                mango\n",
       "2           strawberry\n",
       "3            pineapple\n",
       "4           gala apple\n",
       "5     honeycrisp apple\n",
       "6               tomato\n",
       "7           watermelon\n",
       "8             honeydew\n",
       "12               mango\n",
       "13           blueberry\n",
       "14          blackberry\n",
       "15          gooseberry\n",
       "16              papaya\n",
       "dtype: object"
      ]
     },
     "execution_count": 101,
     "metadata": {},
     "output_type": "execute_result"
    }
   ],
   "source": [
    "#5. Write the code to get the string values with 5 or more letters in the name.\n",
    "\n",
    "\n",
    "fruits[fruits.str.len() >= 5]"
   ]
  },
  {
   "cell_type": "code",
   "execution_count": null,
   "id": "5a215e8c",
   "metadata": {},
   "outputs": [],
   "source": [
    "#6. Use the .apply method with a lambda function to find the fruit(s) containing the letter \"o\" two or more times.\n",
    "\n",
    "\n"
   ]
  },
  {
   "cell_type": "code",
   "execution_count": null,
   "id": "01bdb50d",
   "metadata": {},
   "outputs": [],
   "source": [
    "#7. Write the code to get only the string values containing the substring \"berry\".\n",
    "\n",
    "\n"
   ]
  },
  {
   "cell_type": "code",
   "execution_count": null,
   "id": "a92ec73d",
   "metadata": {},
   "outputs": [],
   "source": [
    "#8. Write the code to get only the string values containing the substring \"apple\".\n",
    "\n",
    "\n"
   ]
  },
  {
   "cell_type": "code",
   "execution_count": null,
   "id": "712813a6",
   "metadata": {},
   "outputs": [],
   "source": [
    "#9. Which string value contains the most vowels?\n",
    "\n"
   ]
  },
  {
   "cell_type": "code",
   "execution_count": null,
   "id": "12825ff1",
   "metadata": {},
   "outputs": [],
   "source": []
  },
  {
   "cell_type": "code",
   "execution_count": 107,
   "id": "5956a44c",
   "metadata": {},
   "outputs": [],
   "source": [
    "letters = pd.Series([    'hnvidduckkqxwymbimkccexbkmqygkxoyndmcxnwqarhyffsjpsrabtjzsypmzadfavyrnndndvswreauxovncxtwzpwejilzjrmmbbgbyxvjtewqthafnbkqplarokkyydtubbmnexoypulzwfhqvckdpqtpoppzqrmcvhhpwgjwupgzhiofohawytlsiyecuproguy'])\n",
    "#naming the string"
   ]
  },
  {
   "cell_type": "code",
   "execution_count": 108,
   "id": "9733f88d",
   "metadata": {},
   "outputs": [
    {
     "data": {
      "text/plain": [
       "pandas.core.series.Series"
      ]
     },
     "execution_count": 108,
     "metadata": {},
     "output_type": "execute_result"
    }
   ],
   "source": [
    "type(letters)"
   ]
  },
  {
   "cell_type": "code",
   "execution_count": 110,
   "id": "cdf20552",
   "metadata": {},
   "outputs": [],
   "source": [
    "listfrommethod = letters.tolist()"
   ]
  },
  {
   "cell_type": "code",
   "execution_count": 111,
   "id": "8e837c20",
   "metadata": {},
   "outputs": [
    {
     "data": {
      "text/plain": [
       "list"
      ]
     },
     "execution_count": 111,
     "metadata": {},
     "output_type": "execute_result"
    }
   ],
   "source": [
    "type(listfrommethod)"
   ]
  },
  {
   "cell_type": "code",
   "execution_count": 117,
   "id": "44cf64d6",
   "metadata": {},
   "outputs": [],
   "source": [
    "#if we try to make the string a list after making it a pandas series, \n",
    "#we've actually created a list with only one value\n",
    "#and that one value is the long string\n",
    "#in order to create a series that contains a list from an original string, convert the string to a list FIRST,\n",
    "#THEN create the series based on that created list"
   ]
  },
  {
   "cell_type": "code",
   "execution_count": 115,
   "id": "0afcb03e",
   "metadata": {},
   "outputs": [],
   "source": [
    "letters_list = list(    'hnvidduckkqxwymbimkccexbkmqygkxoyndmcxnwqarhyffsjpsrabtjzsypmzadfavyrnndndvswreauxovncxtwzpwejilzjrmmbbgbyxvjtewqthafnbkqplarokkyydtubbmnexoypulzwfhqvckdpqtpoppzqrmcvhhpwgjwupgzhiofohawytlsiyecuproguy')"
   ]
  },
  {
   "cell_type": "code",
   "execution_count": 116,
   "id": "828f30f2",
   "metadata": {},
   "outputs": [
    {
     "data": {
      "text/plain": [
       "0      h\n",
       "1      n\n",
       "2      v\n",
       "3      i\n",
       "4      d\n",
       "      ..\n",
       "195    r\n",
       "196    o\n",
       "197    g\n",
       "198    u\n",
       "199    y\n",
       "Length: 200, dtype: object"
      ]
     },
     "execution_count": 116,
     "metadata": {},
     "output_type": "execute_result"
    }
   ],
   "source": [
    "#now we have our list. (make sure to assign it to a variable name- here I chose \"letters_list\")\n",
    "#it's time to make the series from that list\n",
    "\n",
    "letters = pd.Series(letters_list)\n",
    "letters"
   ]
  },
  {
   "cell_type": "code",
   "execution_count": null,
   "id": "d577fa46",
   "metadata": {},
   "outputs": [],
   "source": [
    "#Now, we have the series that is a list of each indivual letter (verify with type()). \n",
    "#and we can look at it a little better. using .describe()"
   ]
  },
  {
   "cell_type": "code",
   "execution_count": 123,
   "id": "7dc3b0db",
   "metadata": {},
   "outputs": [
    {
     "data": {
      "text/plain": [
       "pandas.core.series.Series"
      ]
     },
     "execution_count": 123,
     "metadata": {},
     "output_type": "execute_result"
    }
   ],
   "source": [
    "type(letters)\n"
   ]
  },
  {
   "cell_type": "code",
   "execution_count": 124,
   "id": "596bc863",
   "metadata": {},
   "outputs": [
    {
     "data": {
      "text/plain": [
       "count     200\n",
       "unique     26\n",
       "top         y\n",
       "freq       13\n",
       "dtype: object"
      ]
     },
     "execution_count": 124,
     "metadata": {},
     "output_type": "execute_result"
    }
   ],
   "source": [
    "letters.describe()"
   ]
  },
  {
   "cell_type": "code",
   "execution_count": 126,
   "id": "c5c8a51a",
   "metadata": {},
   "outputs": [
    {
     "data": {
      "text/plain": [
       "y    13\n",
       "p    12\n",
       "w    10\n",
       "k     9\n",
       "b     9\n",
       "n     9\n",
       "m     9\n",
       "d     8\n",
       "q     8\n",
       "r     8\n",
       "x     8\n",
       "a     8\n",
       "h     8\n",
       "o     8\n",
       "c     8\n",
       "v     7\n",
       "u     7\n",
       "t     7\n",
       "z     7\n",
       "j     6\n",
       "e     6\n",
       "f     6\n",
       "i     5\n",
       "s     5\n",
       "g     5\n",
       "l     4\n",
       "dtype: int64"
      ]
     },
     "execution_count": 126,
     "metadata": {},
     "output_type": "execute_result"
    }
   ],
   "source": [
    "letters.value_counts() #this gives me all values and their respective counts.  \n",
    "#i can tack on .head(1) to get the value with the highest count!"
   ]
  },
  {
   "cell_type": "code",
   "execution_count": 127,
   "id": "eb4cea51",
   "metadata": {},
   "outputs": [
    {
     "data": {
      "text/plain": [
       "y    13\n",
       "dtype: int64"
      ]
     },
     "execution_count": 127,
     "metadata": {},
     "output_type": "execute_result"
    }
   ],
   "source": [
    "letters.value_counts().head(1)"
   ]
  },
  {
   "cell_type": "code",
   "execution_count": 128,
   "id": "07b1f2d0",
   "metadata": {},
   "outputs": [
    {
     "data": {
      "text/plain": [
       "l    4\n",
       "dtype: int64"
      ]
     },
     "execution_count": 128,
     "metadata": {},
     "output_type": "execute_result"
    }
   ],
   "source": [
    "letters.value_counts().tail(1)"
   ]
  },
  {
   "cell_type": "code",
   "execution_count": 132,
   "id": "5a54f360",
   "metadata": {},
   "outputs": [
    {
     "data": {
      "text/plain": [
       "34"
      ]
     },
     "execution_count": 132,
     "metadata": {},
     "output_type": "execute_result"
    }
   ],
   "source": [
    "sum(letters.str.count('[aeiou]'))\n",
    "\n"
   ]
  },
  {
   "cell_type": "code",
   "execution_count": 138,
   "id": "7dc96c7c",
   "metadata": {},
   "outputs": [
    {
     "data": {
      "text/plain": [
       "200"
      ]
     },
     "execution_count": 138,
     "metadata": {},
     "output_type": "execute_result"
    }
   ],
   "source": [
    "letters.count()"
   ]
  },
  {
   "cell_type": "code",
   "execution_count": 139,
   "id": "33d8f8a5",
   "metadata": {},
   "outputs": [
    {
     "data": {
      "text/plain": [
       "166"
      ]
     },
     "execution_count": 139,
     "metadata": {},
     "output_type": "execute_result"
    }
   ],
   "source": [
    "vowels = sum(letters.str.count('[aeiou]'))\n",
    "all_letters = letters.count()\n",
    "\n",
    "all_letters - vowels #this is the total number of consonants, \n",
    "#because we subtracted the total number of vowels from the total number of letters."
   ]
  },
  {
   "cell_type": "code",
   "execution_count": 149,
   "id": "69d45b5e",
   "metadata": {},
   "outputs": [],
   "source": [
    "upper_letters = letters.str.upper()"
   ]
  },
  {
   "cell_type": "code",
   "execution_count": 150,
   "id": "9b398fed",
   "metadata": {},
   "outputs": [
    {
     "data": {
      "text/plain": [
       "pandas.core.series.Series"
      ]
     },
     "execution_count": 150,
     "metadata": {},
     "output_type": "execute_result"
    }
   ],
   "source": [
    "type(upper_letters)"
   ]
  },
  {
   "cell_type": "code",
   "execution_count": 154,
   "id": "7553b8cd",
   "metadata": {},
   "outputs": [
    {
     "data": {
      "text/plain": [
       "Y    13\n",
       "P    12\n",
       "W    10\n",
       "K     9\n",
       "N     9\n",
       "M     9\n",
       "dtype: int64"
      ]
     },
     "execution_count": 154,
     "metadata": {},
     "output_type": "execute_result"
    }
   ],
   "source": [
    "upper_letters.value_counts().head(6)"
   ]
  },
  {
   "cell_type": "code",
   "execution_count": 156,
   "id": "53188ca3",
   "metadata": {},
   "outputs": [
    {
     "data": {
      "text/plain": [
       "<AxesSubplot:>"
      ]
     },
     "execution_count": 156,
     "metadata": {},
     "output_type": "execute_result"
    },
    {
     "data": {
      "image/png": "[encoded data removed]",
      "text/plain": [
       "<Figure size 432x288 with 1 Axes>"
      ]
     },
     "metadata": {
      "needs_background": "light"
     },
     "output_type": "display_data"
    }
   ],
   "source": [
    "top_six = upper_letters.value_counts().head(6) \n",
    "#i created a variable called top_six so I could easily access it as a series\n",
    "#then I can make that newly created series a plot using .plot() <- which makes the default plot\n",
    "\n",
    "top_six.plot()"
   ]
  },
  {
   "cell_type": "code",
   "execution_count": 159,
   "id": "d2ffeb0e",
   "metadata": {},
   "outputs": [
    {
     "data": {
      "image/png": "[encoded data removed]",
      "text/plain": [
       "<Figure size 432x288 with 1 Axes>"
      ]
     },
     "metadata": {
      "needs_background": "light"
     },
     "output_type": "display_data"
    }
   ],
   "source": [
    "top_six.plot.bar(rot=0)\n",
    "\n",
    "# a bit more customized!this made a bar chart and I rotated the x-tick values (they were sideways w/o it)\n",
    "\n",
    "plt.show()"
   ]
  },
  {
   "cell_type": "code",
   "execution_count": 160,
   "id": "e28b6388",
   "metadata": {},
   "outputs": [
    {
     "data": {
      "text/plain": [
       "0       $796,459.41\n",
       "1           $278.60\n",
       "2       $482,571.67\n",
       "3     $4,503,915.98\n",
       "4      $2,121,418.3\n",
       "5      $1,260,813.3\n",
       "6        $87,231.01\n",
       "7     $1,509,175.45\n",
       "8     $4,138,548.00\n",
       "9     $2,848,913.80\n",
       "10      $594,715.39\n",
       "11    $4,789,988.17\n",
       "12     $4,513,644.5\n",
       "13    $3,191,059.97\n",
       "14    $1,758,712.24\n",
       "15    $4,338,283.54\n",
       "16    $4,738,303.38\n",
       "17    $2,791,759.67\n",
       "18      $769,681.94\n",
       "19      $452,650.23\n",
       "dtype: object"
      ]
     },
     "execution_count": 160,
     "metadata": {},
     "output_type": "execute_result"
    }
   ],
   "source": [
    "numbers_list =     ['$796,459.41', '$278.60', '$482,571.67', '$4,503,915.98', '$2,121,418.3', '$1,260,813.3', '$87,231.01', '$1,509,175.45', '$4,138,548.00', '$2,848,913.80', '$594,715.39', '$4,789,988.17', '$4,513,644.5', '$3,191,059.97', '$1,758,712.24', '$4,338,283.54', '$4,738,303.38', '$2,791,759.67', '$769,681.94', '$452,650.23']\n",
    "\n",
    "numbers = pd.Series(numbers_list)\n",
    "numbers"
   ]
  },
  {
   "cell_type": "code",
   "execution_count": 164,
   "id": "2aa328b2",
   "metadata": {},
   "outputs": [
    {
     "data": {
      "text/plain": [
       "str"
      ]
     },
     "execution_count": 164,
     "metadata": {},
     "output_type": "execute_result"
    }
   ],
   "source": [
    "# data type is string (pandas object)  we can check this programmatically too by checking the dytpe of an index\n",
    "\n",
    "type(numbers[0])\n",
    "\n"
   ]
  },
  {
   "cell_type": "code",
   "execution_count": null,
   "id": "2022a193",
   "metadata": {},
   "outputs": [],
   "source": [
    "# there are 20 elements. we can check this programmatically too by using .count\n",
    "\n",
    "numbers.count()"
   ]
  },
  {
   "cell_type": "code",
   "execution_count": null,
   "id": "98e47b32",
   "metadata": {},
   "outputs": [],
   "source": [
    "#I need to get these numbers that are strings converted to a numeric value\n",
    "#I'm going to need to take out the commas and the dollar sign \n",
    "#I'm going to need to then convert the type to a float\n",
    "#Below I'll go step-by-step"
   ]
  },
  {
   "cell_type": "code",
   "execution_count": 165,
   "id": "fca7342c",
   "metadata": {},
   "outputs": [
    {
     "data": {
      "text/plain": [
       "'$796,459.41'"
      ]
     },
     "execution_count": 165,
     "metadata": {},
     "output_type": "execute_result"
    }
   ],
   "source": [
    "numbers[0] #looking at one number in my series"
   ]
  },
  {
   "cell_type": "code",
   "execution_count": 167,
   "id": "96191ed0",
   "metadata": {},
   "outputs": [
    {
     "data": {
      "text/plain": [
       "'$796459.41'"
      ]
     },
     "execution_count": 167,
     "metadata": {},
     "output_type": "execute_result"
    }
   ],
   "source": [
    "clean_number = numbers[0].replace(',', '') #taking away the commas\n",
    "\n",
    "clean_number"
   ]
  },
  {
   "cell_type": "code",
   "execution_count": 170,
   "id": "bcbae9fa",
   "metadata": {},
   "outputs": [
    {
     "data": {
      "text/plain": [
       "'96459.41'"
      ]
     },
     "execution_count": 170,
     "metadata": {},
     "output_type": "execute_result"
    }
   ],
   "source": [
    "clean_number = clean_number[1:] #shaving off that $ which happens to be the 0 index of the str\n",
    "\n",
    "clean_number"
   ]
  },
  {
   "cell_type": "code",
   "execution_count": 171,
   "id": "88a0e871",
   "metadata": {},
   "outputs": [
    {
     "data": {
      "text/plain": [
       "96459.41"
      ]
     },
     "execution_count": 171,
     "metadata": {},
     "output_type": "execute_result"
    }
   ],
   "source": [
    "clean_number = float(clean_number) #converting the type to a float\n",
    "\n",
    "clean_number"
   ]
  },
  {
   "cell_type": "code",
   "execution_count": 172,
   "id": "c898e24a",
   "metadata": {},
   "outputs": [
    {
     "data": {
      "text/plain": [
       "float"
      ]
     },
     "execution_count": 172,
     "metadata": {},
     "output_type": "execute_result"
    }
   ],
   "source": [
    "type(clean_number) #verifying the type"
   ]
  },
  {
   "cell_type": "code",
   "execution_count": 183,
   "id": "cb50899e",
   "metadata": {},
   "outputs": [],
   "source": [
    "#now I can combine these steps above and create a function\n",
    "#create the function, then test it using the assert function\n",
    "\n",
    "def dollar_to_float(dollars):\n",
    "    dollars = dollars.replace(',','')\n",
    "    dollars = dollars[1:]\n",
    "    return float(dollars)\n",
    "    \n",
    "\n",
    "assert dollar_to_float(\"$45,343.03\") == 45343.03\n",
    "assert dollar_to_float(\"$1,234,567.89\") == 1234567.89\n",
    "    "
   ]
  },
  {
   "cell_type": "code",
   "execution_count": 179,
   "id": "b2fa9db8",
   "metadata": {},
   "outputs": [],
   "source": [
    "#now I should be able to apply this function to each value in my series"
   ]
  },
  {
   "cell_type": "code",
   "execution_count": 185,
   "id": "54d7aeb2",
   "metadata": {},
   "outputs": [
    {
     "data": {
      "text/plain": [
       "pandas.core.series.Series"
      ]
     },
     "execution_count": 185,
     "metadata": {},
     "output_type": "execute_result"
    }
   ],
   "source": [
    "type(numbers)"
   ]
  },
  {
   "cell_type": "code",
   "execution_count": 189,
   "id": "95a339e7",
   "metadata": {},
   "outputs": [
    {
     "data": {
      "text/plain": [
       "0      796459.41\n",
       "1         278.60\n",
       "2      482571.67\n",
       "3     4503915.98\n",
       "4     2121418.30\n",
       "5     1260813.30\n",
       "6       87231.01\n",
       "7     1509175.45\n",
       "8     4138548.00\n",
       "9     2848913.80\n",
       "10     594715.39\n",
       "11    4789988.17\n",
       "12    4513644.50\n",
       "13    3191059.97\n",
       "14    1758712.24\n",
       "15    4338283.54\n",
       "16    4738303.38\n",
       "17    2791759.67\n",
       "18     769681.94\n",
       "19     452650.23\n",
       "dtype: float64"
      ]
     },
     "execution_count": 189,
     "metadata": {},
     "output_type": "execute_result"
    }
   ],
   "source": [
    "floaty_numbers = numbers.apply(dollar_to_float)\n",
    "\n",
    "floaty_numbers"
   ]
  },
  {
   "cell_type": "code",
   "execution_count": 188,
   "id": "17dc5806",
   "metadata": {},
   "outputs": [
    {
     "data": {
      "text/plain": [
       "pandas.core.series.Series"
      ]
     },
     "execution_count": 188,
     "metadata": {},
     "output_type": "execute_result"
    }
   ],
   "source": [
    "type(floaty_numbers)"
   ]
  },
  {
   "cell_type": "code",
   "execution_count": 190,
   "id": "e9739288",
   "metadata": {},
   "outputs": [
    {
     "data": {
      "text/plain": [
       "count    2.000000e+01\n",
       "mean     2.284406e+06\n",
       "std      1.735261e+06\n",
       "min      2.786000e+02\n",
       "25%      7.259403e+05\n",
       "50%      1.940065e+06\n",
       "75%      4.188482e+06\n",
       "max      4.789988e+06\n",
       "dtype: float64"
      ]
     },
     "execution_count": 190,
     "metadata": {},
     "output_type": "execute_result"
    }
   ],
   "source": [
    "floaty_numbers.describe()"
   ]
  },
  {
   "cell_type": "markdown",
   "id": "6b376b0c",
   "metadata": {},
   "source": [
    "4.(10) Run the code to discover the maximum value from the Series."
   ]
  },
  {
   "cell_type": "code",
   "execution_count": 191,
   "id": "a5054392",
   "metadata": {},
   "outputs": [
    {
     "data": {
      "text/plain": [
       "4789988.17"
      ]
     },
     "execution_count": 191,
     "metadata": {},
     "output_type": "execute_result"
    }
   ],
   "source": [
    "max(floaty_numbers)"
   ]
  },
  {
   "cell_type": "markdown",
   "id": "bf4e570d",
   "metadata": {},
   "source": [
    "5.(11) Run the code to discover the minimum value from the Series."
   ]
  },
  {
   "cell_type": "code",
   "execution_count": 200,
   "id": "831f3265",
   "metadata": {},
   "outputs": [
    {
     "data": {
      "text/plain": [
       "278.6"
      ]
     },
     "execution_count": 200,
     "metadata": {},
     "output_type": "execute_result"
    }
   ],
   "source": [
    "min(floaty_numbers)"
   ]
  },
  {
   "cell_type": "markdown",
   "id": "68619b38",
   "metadata": {},
   "source": [
    "6.(12) What is the range of the values in the Series?"
   ]
  },
  {
   "cell_type": "code",
   "execution_count": 196,
   "id": "f80c75fb",
   "metadata": {},
   "outputs": [
    {
     "data": {
      "text/plain": [
       "4789709.57"
      ]
     },
     "execution_count": 196,
     "metadata": {},
     "output_type": "execute_result"
    }
   ],
   "source": [
    "max(floaty_numbers) - min(floaty_numbers) #this is the range: max - min"
   ]
  },
  {
   "cell_type": "markdown",
   "id": "1f6f6406",
   "metadata": {},
   "source": [
    "7.(13) Bin the data into 4 equally sized intervals or bins and output how many values fall into each bin."
   ]
  },
  {
   "cell_type": "code",
   "execution_count": 199,
   "id": "6bd71778",
   "metadata": {},
   "outputs": [
    {
     "data": {
      "text/plain": [
       "(-4511.111, 1197705.993]      7\n",
       "(1197705.993, 2395133.385]    4\n",
       "(2395133.385, 3592560.778]    3\n",
       "(3592560.778, 4789988.17]     6\n",
       "dtype: int64"
      ]
     },
     "execution_count": 199,
     "metadata": {},
     "output_type": "execute_result"
    }
   ],
   "source": [
    "floaty_numbers.value_counts(bins=4).sort_index() #i created 4 bins and sorted them by the index/bins"
   ]
  },
  {
   "cell_type": "code",
   "execution_count": null,
   "id": "ad8ab820",
   "metadata": {},
   "outputs": [],
   "source": []
  }
 ],
 "metadata": {
  "kernelspec": {
   "display_name": "Python 3",
   "language": "python",
   "name": "python3"
  },
  "language_info": {
   "codemirror_mode": {
    "name": "ipython",
    "version": 3
   },
   "file_extension": ".py",
   "mimetype": "text/x-python",
   "name": "python",
   "nbconvert_exporter": "python",
   "pygments_lexer": "ipython3",
   "version": "3.8.8"
  }
 },
 "nbformat": 4,
 "nbformat_minor": 5
}
